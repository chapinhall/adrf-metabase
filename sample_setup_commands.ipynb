{
 "cells": [
  {
   "cell_type": "markdown",
   "metadata": {},
   "source": [
    "# Sample commands to setup Metabase"
   ]
  },
  {
   "cell_type": "markdown",
   "metadata": {},
   "source": [
    "2019-04-09\n",
    "\n",
    "Places for improvement are marked with `TODO`"
   ]
  },
  {
   "cell_type": "markdown",
   "metadata": {},
   "source": [
    "The Metabase project is designed to track metadata and ETL processes automatically for logging and validation purposes. Its current ERD can be found at TODO."
   ]
  },
  {
   "cell_type": "markdown",
   "metadata": {},
   "source": [
    "## Requirements"
   ]
  },
  {
   "cell_type": "markdown",
   "metadata": {},
   "source": [
    "### PostgreSQL"
   ]
  },
  {
   "cell_type": "markdown",
   "metadata": {},
   "source": [
    "The project is developed with PostgreSQL 9.5, which can be downloaded from https://www.postgresql.org/download/."
   ]
  },
  {
   "cell_type": "markdown",
   "metadata": {},
   "source": [
    "### Python"
   ]
  },
  {
   "cell_type": "markdown",
   "metadata": {},
   "source": [
    "The project is built on Python 3.5. Below are some sample commands to create a virtual environment for this project with [Anaconda](https://www.anaconda.com/distribution/) and load prerequisites into that environment."
   ]
  },
  {
   "cell_type": "code",
   "execution_count": 4,
   "metadata": {},
   "outputs": [
    {
     "name": "stdout",
     "output_type": "stream",
     "text": [
      "Collecting package metadata: ...working... done\n",
      "Solving environment: ...working... done\n",
      "\n",
      "## Package Plan ##\n",
      "\n",
      "  environment location: C:\\Users\\shan\\AppData\\Local\\Continuum\\anaconda3\\envs\\adrf35\n",
      "\n",
      "  added / updated specs:\n",
      "    - python=3.5\n",
      "\n",
      "\n",
      "The following NEW packages will be INSTALLED:\n",
      "\n",
      "  certifi            pkgs/main/win-64::certifi-2018.8.24-py35_1\n",
      "  pip                pkgs/main/win-64::pip-10.0.1-py35_0\n",
      "  python             pkgs/main/win-64::python-3.5.6-he025d50_0\n",
      "  setuptools         pkgs/main/win-64::setuptools-40.2.0-py35_0\n",
      "  vc                 pkgs/main/win-64::vc-14.1-h0510ff6_4\n",
      "  vs2015_runtime     pkgs/main/win-64::vs2015_runtime-14.15.26706-h3a45250_0\n",
      "  wheel              pkgs/main/win-64::wheel-0.31.1-py35_0\n",
      "  wincertstore       pkgs/main/win-64::wincertstore-0.2-py35hfebbdb8_0\n",
      "\n",
      "\n",
      "Preparing transaction: ...working... done\n",
      "Verifying transaction: ...working... done\n",
      "Executing transaction: ...working... done\n",
      "#\n",
      "# To activate this environment, use:\n",
      "# > activate adrf35\n",
      "#\n",
      "# To deactivate an active environment, use:\n",
      "# > deactivate\n",
      "#\n",
      "# * for power-users using bash, you must source\n",
      "#\n",
      "\n"
     ]
    },
    {
     "name": "stderr",
     "output_type": "stream",
     "text": [
      "WARNING: The conda.compat module is deprecated and will be removed in a future release.\n"
     ]
    }
   ],
   "source": [
    "!conda create -y -n adrf35 python=3.5"
   ]
  },
  {
   "cell_type": "markdown",
   "metadata": {},
   "source": [
    "The `-y` flag confirms the creation; the `-n` flag expects a name for the newly created environment. In this case, it is called \"adrf35.\" The warning message at the bottom can be ignored since it is a [open issue](https://github.com/conda/conda/issues/8512) of Anaconda 4.6.11 that has not been fixed as of April 9, 2019. "
   ]
  },
  {
   "cell_type": "markdown",
   "metadata": {},
   "source": [
    "To activate the virtual environment we just created and install required packages into it, run the following commands in terminal:\n",
    "\n",
    "```\n",
    "conda activate adrf35\n",
    "\n",
    "pip install -r requirements.txt\n",
    "```\n",
    "\n",
    "Since shell commands prefixed with `!` in Jupyter Notebooks are executed in a temporary subshell with the default virtual environment, it would be a lot easier to run the above commands in an actual terminal."
   ]
  },
  {
   "cell_type": "markdown",
   "metadata": {},
   "source": [
    "## Preparing the database"
   ]
  },
  {
   "cell_type": "markdown",
   "metadata": {},
   "source": [
    "Metabase writes metadata to a `metabase` schema as superuser `metaadmin`. These can be configured in [`metabase/settings.py`](metabase/settings.py). By default, we need to first create a superuser with login privilege and store its database credentials in a [pgpass](https://www.postgresql.org/docs/9.5/libpq-pgpass.html) file.\n",
    "\n",
    "The sample codes below create superuser `metaadmin` and schema `metabase` with sqlalchemy."
   ]
  },
  {
   "cell_type": "code",
   "execution_count": 3,
   "metadata": {},
   "outputs": [],
   "source": [
    "import sqlalchemy"
   ]
  },
  {
   "cell_type": "code",
   "execution_count": 4,
   "metadata": {},
   "outputs": [],
   "source": [
    "engine = sqlalchemy.create_engine('postgres://postgres@localhost/postgres')"
   ]
  },
  {
   "cell_type": "code",
   "execution_count": null,
   "metadata": {},
   "outputs": [],
   "source": [
    "engine.execute(\"\"\"\n",
    "    CREATE ROLE metaadmin WITH LOGIN SUPERUSER;\n",
    "    SET ROLE metaadmin;\n",
    "    CREATE SCHEMA metabase;\n",
    "\"\"\").close()"
   ]
  },
  {
   "cell_type": "markdown",
   "metadata": {},
   "source": [
    "To initiate metabase tables under the `metabase` schema, run an [Alembic](https://alembic.sqlalchemy.org/en/latest/) migration with the following command:"
   ]
  },
  {
   "cell_type": "code",
   "execution_count": 1,
   "metadata": {},
   "outputs": [],
   "source": [
    "!alembic upgrade head"
   ]
  },
  {
   "cell_type": "markdown",
   "metadata": {},
   "source": [
    "It runs the migration scripts under the [`alembic`](alembic/) folder.\n",
    "\n",
    "Now the `metabase` schema and its tables are ready to host metadata."
   ]
  },
  {
   "cell_type": "markdown",
   "metadata": {},
   "source": [
    "## TODO: Command line interface / JSON config usage"
   ]
  },
  {
   "cell_type": "markdown",
   "metadata": {},
   "source": [
    "## For developers"
   ]
  },
  {
   "cell_type": "markdown",
   "metadata": {},
   "source": [
    "### Lint"
   ]
  },
  {
   "cell_type": "markdown",
   "metadata": {},
   "source": [
    "We use [flake8](http://flake8.pycqa.org/en/latest/) for style guide enforcement. Flake8 can be installed with the following command:\n",
    "\n",
    "```\n",
    "pip install flake8\n",
    "```"
   ]
  },
  {
   "cell_type": "markdown",
   "metadata": {},
   "source": [
    "and run the linter over the project directory with"
   ]
  },
  {
   "cell_type": "code",
   "execution_count": 3,
   "metadata": {},
   "outputs": [],
   "source": [
    "!flake8 ."
   ]
  },
  {
   "cell_type": "markdown",
   "metadata": {},
   "source": [
    "Note that, as mentioned above, `!`shell commands are executed in temporary subshells with default virtual environments. The above command works only if  `flake8` is installed in your default environment (`base`). If you just want to install `flake8` in the `adrf35` environment and call it from there in Jupyter Notebook, you can try the following workaround:"
   ]
  },
  {
   "cell_type": "code",
   "execution_count": 22,
   "metadata": {},
   "outputs": [
    {
     "name": "stdout",
     "output_type": "stream",
     "text": [
      "Microsoft Windows [Version 6.1.7601]\r\n",
      "Copyright (c) 2009 Microsoft Corporation.  All rights reserved.\r\n",
      "\r\n",
      "C:\\Users\\shan\\Desktop\\git\\adrf-metabase>conda activate adrf35\n",
      "\r\n",
      "(adrf35) C:\\Users\\shan\\Desktop\\git\\adrf-metabase>flake8 .\n",
      "\r\n",
      "(adrf35) C:\\Users\\shan\\Desktop\\git\\adrf-metabase>"
     ]
    }
   ],
   "source": [
    "%%script cmd\n",
    "\n",
    "conda activate adrf35\n",
    "flake8 ."
   ]
  },
  {
   "cell_type": "code",
   "execution_count": 23,
   "metadata": {},
   "outputs": [
    {
     "name": "stdout",
     "output_type": "stream",
     "text": [
      "All background processes were killed.\n"
     ]
    }
   ],
   "source": [
    "%killbgscripts"
   ]
  },
  {
   "cell_type": "markdown",
   "metadata": {},
   "source": [
    "It uses the [%%script](https://ipython.readthedocs.io/en/stable/interactive/magics.html#cellmagic-script) cell magic to activate `adrf35` and run `flake8` by `cmd` on Windows (or `sh` or `bash` on Linux). The `%killbgscripts` line magic kills that script  upon completion. Similarly hereafter."
   ]
  },
  {
   "cell_type": "markdown",
   "metadata": {},
   "source": [
    "### Tests"
   ]
  },
  {
   "cell_type": "markdown",
   "metadata": {},
   "source": [
    "We use [pytest](https://doc.pytest.org/) for unit test and [testing.postgresql](https://github.com/tk0miya/testing.postgresql) to setup testing databases. The former can be installed with\n",
    "\n",
    "```\n",
    "pip install pytest\n",
    "```\n",
    "\n",
    "Note that the testing.postgresql 1.3.0 on PyPI has an [open issue](https://github.com/tk0miya/testing.postgresql/issues/16) that can lead to false errors on Windows systems. It can be avoided by installing their master branch on GitHub via\n",
    "\n",
    "```\n",
    "pip install git+https://github.com/tk0miya/testing.postgresql.git\n",
    "```\n",
    "\n",
    "As of April 9, 2019, its PyPI distribution works for Linux, but Linux users may also want to install from the master branch since it seems that that project is no longer active."
   ]
  },
  {
   "cell_type": "markdown",
   "metadata": {},
   "source": [
    "A sample printout from a test session may look like below:"
   ]
  },
  {
   "cell_type": "code",
   "execution_count": 5,
   "metadata": {},
   "outputs": [
    {
     "name": "stdout",
     "output_type": "stream",
     "text": [
      "============================= test session starts =============================\n",
      "platform win32 -- Python 3.7.1, pytest-4.0.2, py-1.7.0, pluggy-0.8.0\n",
      "rootdir: C:\\Users\\shan\\Desktop\\git\\adrf-metabase, inifile:\n",
      "plugins: remotedata-0.3.1, openfiles-0.3.1, doctestplus-0.2.0, arraydiff-0.3\n",
      "collected 6 items\n",
      "\n",
      "tests\\test_extract_metadata.py ......                                    [100%]\n",
      "\n",
      "========================== 6 passed in 56.99 seconds ==========================\n"
     ]
    }
   ],
   "source": [
    "!pytest tests/"
   ]
  },
  {
   "cell_type": "markdown",
   "metadata": {},
   "source": [
    "### Test coverage"
   ]
  },
  {
   "cell_type": "markdown",
   "metadata": {},
   "source": [
    "We use [pytest-cov](https://pytest-cov.readthedocs.io/en/latest/) as a plugin for pytest to ensure test coverage. It can be installed with \n",
    "\n",
    "```\n",
    "pip install pytest-cov\n",
    "```\n",
    "\n",
    "and run like"
   ]
  },
  {
   "cell_type": "code",
   "execution_count": 6,
   "metadata": {},
   "outputs": [
    {
     "name": "stdout",
     "output_type": "stream",
     "text": [
      "============================= test session starts =============================\n",
      "platform win32 -- Python 3.7.1, pytest-4.0.2, py-1.7.0, pluggy-0.8.0\n",
      "rootdir: C:\\Users\\shan\\Desktop\\git\\adrf-metabase, inifile:\n",
      "plugins: remotedata-0.3.1, openfiles-0.3.1, doctestplus-0.2.0, cov-2.6.1, arraydiff-0.3\n",
      "collected 6 items\n",
      "\n",
      "tests\\test_extract_metadata.py ......                                    [100%]\n",
      "\n",
      "----------- coverage: platform win32, python 3.7.1-final-0 -----------\n",
      "Coverage HTML written to dir htmlcov\n",
      "\n",
      "\n",
      "========================== 6 passed in 66.91 seconds ==========================\n"
     ]
    }
   ],
   "source": [
    "!pytest --cov=metabase tests --cov-report html"
   ]
  },
  {
   "cell_type": "markdown",
   "metadata": {},
   "source": [
    "### Documentation"
   ]
  },
  {
   "cell_type": "markdown",
   "metadata": {},
   "source": [
    "Documentation of this project is built with [Sphinx](http://www.sphinx-doc.org/en/master/), which can be installed with \n",
    "\n",
    "```\n",
    "pip install sphinx\n",
    "```\n",
    "\n",
    "Also, an online build of the documentation is hosted by [Read the Docs](https://readthedocs.org/) and can be found at https://adrf-metabase.readthedocs.io."
   ]
  },
  {
   "cell_type": "markdown",
   "metadata": {},
   "source": [
    "To build the documentation locally, first go to the [`docs/`](docs/) folder"
   ]
  },
  {
   "cell_type": "code",
   "execution_count": null,
   "metadata": {
    "scrolled": true
   },
   "outputs": [],
   "source": [
    "cd docs/"
   ]
  },
  {
   "cell_type": "markdown",
   "metadata": {},
   "source": [
    "and run [`sphinx-apidoc`](https://www.sphinx-doc.org/en/master/man/sphinx-apidoc.html) to generate/update `rst` files under [`docs/source/`](docs/source/)."
   ]
  },
  {
   "cell_type": "code",
   "execution_count": 8,
   "metadata": {},
   "outputs": [
    {
     "name": "stdout",
     "output_type": "stream",
     "text": [
      "Creating file source/metabase.extract_metadata.rst.\n",
      "Creating file source/metabase.extract_metadata_helper.rst.\n",
      "Creating file source/metabase.settings.rst.\n",
      "Creating file source/metabase.rst.\n",
      "Creating file source/modules.rst.\n"
     ]
    }
   ],
   "source": [
    "!sphinx-apidoc -o source/ ../metabase --force --separate"
   ]
  },
  {
   "cell_type": "markdown",
   "metadata": {},
   "source": [
    "In the sample command above, `-o source/` specifies the output directory as `source/`; `../metabase` is our module path; `--force` overwrites existing `rst` files; `--separate` puts documentation for each module on its own page."
   ]
  },
  {
   "cell_type": "markdown",
   "metadata": {},
   "source": [
    "Last, documentation can be rendered as HTML with"
   ]
  },
  {
   "cell_type": "code",
   "execution_count": null,
   "metadata": {},
   "outputs": [],
   "source": [
    "!make html"
   ]
  },
  {
   "cell_type": "markdown",
   "metadata": {},
   "source": [
    "or PDF with"
   ]
  },
  {
   "cell_type": "code",
   "execution_count": null,
   "metadata": {},
   "outputs": [],
   "source": [
    "!make latexpdf"
   ]
  },
  {
   "cell_type": "markdown",
   "metadata": {},
   "source": [
    "Note that `latexpdf` has some prerequisites that may take some time (> 30 minutes) and space (several GBs) to install. Information about the dependencies can be found on the [LaTexBuilder documentation](http://www.sphinx-doc.org/en/master/usage/builders/index.html#sphinx.builders.latex.LaTeXBuilder) for Linux and [TeX Live](https://tug.org/texlive/windows.html) for Windows.\n",
    "\n",
    "The outputs can be found under [`docs/build/`](`docs/build/`)."
   ]
  }
 ],
 "metadata": {
  "kernelspec": {
   "display_name": "Python 3.5 (ADRF)",
   "language": "python",
   "name": "adrf35"
  },
  "language_info": {
   "codemirror_mode": {
    "name": "ipython",
    "version": 3
   },
   "file_extension": ".py",
   "mimetype": "text/x-python",
   "name": "python",
   "nbconvert_exporter": "python",
   "pygments_lexer": "ipython3",
   "version": "3.5.6"
  },
  "toc": {
   "base_numbering": 1,
   "nav_menu": {},
   "number_sections": false,
   "sideBar": true,
   "skip_h1_title": true,
   "title_cell": "Table of Contents",
   "title_sidebar": "Contents",
   "toc_cell": false,
   "toc_position": {
    "height": "calc(100% - 180px)",
    "left": "10px",
    "top": "150px",
    "width": "165px"
   },
   "toc_section_display": true,
   "toc_window_display": false
  }
 },
 "nbformat": 4,
 "nbformat_minor": 2
}
